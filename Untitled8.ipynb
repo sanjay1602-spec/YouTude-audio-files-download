{
  "nbformat": 4,
  "nbformat_minor": 0,
  "metadata": {
    "colab": {
      "provenance": []
    },
    "kernelspec": {
      "name": "python3",
      "display_name": "Python 3"
    },
    "language_info": {
      "name": "python"
    }
  },
  "cells": [
    {
      "cell_type": "code",
      "execution_count": null,
      "metadata": {
        "id": "zf7-20ox_xwC"
      },
      "outputs": [],
      "source": [
        "!pip install yt-dlp pydub\n",
        "!apt-get install -y ffmpeg"
      ]
    },
    {
      "cell_type": "code",
      "source": [
        "import yt_dlp\n",
        "from pydub import AudioSegment\n",
        "from google.colab import files\n",
        "import os\n",
        "\n",
        "# 🔹 Step 1: Enter YouTube link\n",
        "url = \"https://www.youtube.com/watch?v=4wrfB5aH8Ms\"\n",
        "\n",
        "# 🔹 Step 2: Download audio from YouTube as MP3\n",
        "ydl_opts = {\n",
        "    'format': 'bestaudio/best',\n",
        "    'postprocessors': [{\n",
        "        'key': 'FFmpegExtractAudio',\n",
        "        'preferredcodec': 'mp3',\n",
        "        'preferredquality': '192',\n",
        "    }],\n",
        "    'outtmpl': '%(title)s.%(ext)s',\n",
        "}\n",
        "\n",
        "with yt_dlp.YoutubeDL(ydl_opts) as ydl:\n",
        "    info = ydl.extract_info(url, download=True)\n",
        "    downloaded_file = ydl.prepare_filename(info).replace(\".webm\", \".mp3\").replace(\".m4a\", \".mp3\")\n",
        "\n",
        "print(f\"Downloaded file: {downloaded_file}\")\n",
        "\n",
        "# 🔹 Step 3: Load and trim audio\n",
        "audio = AudioSegment.from_file(downloaded_file)\n",
        "\n",
        "# Set start and end times (seconds)\n",
        "start_time = 65     # change this as needed\n",
        "end_time = 81      # change this as needed\n",
        "\n",
        "print(f\"Original audio duration: {len(audio) / 1000} seconds\")\n",
        "\n",
        "clip = audio[start_time * 1000 : end_time * 1000]\n",
        "\n",
        "print(f\"Trimmed clip duration: {len(clip) / 1000} seconds\")\n",
        "\n",
        "# 🔹 Step 4: Export trimmed clip\n",
        "output_file = \"abc.mp3\" # clip name you wanted to save\n",
        "clip.export(output_file, format=\"mp3\")\n",
        "\n",
        "# 🔹 Step 5: Download final file to your system\n",
        "files.download(output_file)"
      ],
      "metadata": {
        "id": "vOnL54tu_2f4"
      },
      "execution_count": null,
      "outputs": []
    }
  ]
}